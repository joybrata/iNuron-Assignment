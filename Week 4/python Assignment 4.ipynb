{
 "cells": [
  {
   "cell_type": "markdown",
   "metadata": {},
   "source": [
    "## 1. Write a Python Program(with class concepts) to find the area of the triangle using the below formula.\n",
    "## area = (s*(s-a)*(s-b)*(s-c)) ** 0.5\n",
    "## Function to take the length of the sides of triangle from user should be defined in the parent class and function to calculate the area should be defined in subclass."
   ]
  },
  {
   "cell_type": "code",
   "execution_count": 61,
   "metadata": {},
   "outputs": [],
   "source": [
    "class triangle:\n",
    "    def __init__(self, a, b, c):\n",
    "        self.a = a\n",
    "        self.b = b\n",
    "        self.c = c\n",
    "\n",
    "class triangleSubClass(triangle):\n",
    "    def __init__(self, *args):\n",
    "        super(triangleSubClass, self).__init__(*args)\n",
    "    def area(self):\n",
    "        s = (self.a + self.b + self.c)*0.5\n",
    "        return (s*(s-self.a)*(s-self.b)*(s-self.c))**0.5"
   ]
  },
  {
   "cell_type": "code",
   "execution_count": 62,
   "metadata": {},
   "outputs": [
    {
     "name": "stdout",
     "output_type": "stream",
     "text": [
      "Enter side 1: 10\n",
      "Enter side 2: 12\n",
      "Enter side 3: 14\n",
      "Area: 58.787753826796276\n"
     ]
    }
   ],
   "source": [
    "a = int(input(\"Enter side 1: \"))\n",
    "b = int(input(\"Enter side 2: \"))\n",
    "c = int(input(\"Enter side 3: \"))\n",
    "triObj = triangleSubClass(a,b,c)\n",
    "print (\"Area: \" + str(triObj.area()))"
   ]
  },
  {
   "cell_type": "markdown",
   "metadata": {},
   "source": [
    "## 2. Write a function filter_long_words() that takes a list of words and an integer n and returns the list of words that are longer than n."
   ]
  },
  {
   "cell_type": "code",
   "execution_count": 57,
   "metadata": {},
   "outputs": [],
   "source": [
    "def filter_long_words(l, n):\n",
    "    return [s for s in l if (len(s) > n)]"
   ]
  },
  {
   "cell_type": "code",
   "execution_count": 48,
   "metadata": {},
   "outputs": [],
   "source": [
    "def filter_long_words(l, n):\n",
    "    return list(filter(lambda x: len(x) > n, l))"
   ]
  },
  {
   "cell_type": "code",
   "execution_count": 58,
   "metadata": {},
   "outputs": [
    {
     "name": "stdout",
     "output_type": "stream",
     "text": [
      "['adasdasd', 'addwadad', 'sdasdawa']\n"
     ]
    }
   ],
   "source": [
    "l = ['adasdasd','addwadad','ad','wqa','sdasdawa','x']\n",
    "print(list(filter_long_words(l,4)))"
   ]
  },
  {
   "cell_type": "markdown",
   "metadata": {},
   "source": [
    "## 3. Write a Python program using function concept that maps list of words into a list of integers representing the lengths of the corresponding words. <br><br>Hint: If a list [ ab,cde,erty] is passed on to the python function output should come as [2,3,4] <br><br>Here 2,3 and 4 are the lengths of the words in the list."
   ]
  },
  {
   "cell_type": "code",
   "execution_count": 38,
   "metadata": {},
   "outputs": [
    {
     "name": "stdout",
     "output_type": "stream",
     "text": [
      "[2, 3, 4]\n"
     ]
    }
   ],
   "source": [
    "l = ['ab','cde','erty']\n",
    "ans = list(map(lambda x: len(x), l))\n",
    "print(ans)"
   ]
  },
  {
   "cell_type": "markdown",
   "metadata": {},
   "source": [
    "## Write a Python function which takes a character (i.e. a string of length 1) and returns True if it is a vowel, False otherwise."
   ]
  },
  {
   "cell_type": "code",
   "execution_count": 40,
   "metadata": {},
   "outputs": [],
   "source": [
    "def checkVowel(ch):\n",
    "    l = ['a','e','i','o','u']\n",
    "    if(len(ch) == 1):\n",
    "        return (ch.lower() in l)\n",
    "    else:\n",
    "        return \"Enter single character\""
   ]
  },
  {
   "cell_type": "code",
   "execution_count": 44,
   "metadata": {},
   "outputs": [
    {
     "name": "stdout",
     "output_type": "stream",
     "text": [
      "True\n"
     ]
    }
   ],
   "source": [
    "print(checkVowel('A'))"
   ]
  }
 ],
 "metadata": {
  "kernelspec": {
   "display_name": "Python 3",
   "language": "python",
   "name": "python3"
  },
  "language_info": {
   "codemirror_mode": {
    "name": "ipython",
    "version": 3
   },
   "file_extension": ".py",
   "mimetype": "text/x-python",
   "name": "python",
   "nbconvert_exporter": "python",
   "pygments_lexer": "ipython3",
   "version": "3.8.5"
  }
 },
 "nbformat": 4,
 "nbformat_minor": 4
}
